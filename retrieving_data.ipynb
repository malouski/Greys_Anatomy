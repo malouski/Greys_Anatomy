{
 "cells": [
  {
   "cell_type": "markdown",
   "metadata": {},
   "source": [
    "# Grey' Anatomy \n",
    "### - Data Retrieval, Cleaning & Preprocessing"
   ]
  },
  {
   "cell_type": "code",
   "execution_count": 48,
   "metadata": {},
   "outputs": [],
   "source": [
    "from tqdm.notebook import tqdm\n",
    "from bs4 import BeautifulSoup\n",
    "import pandas as pd\n",
    "import requests \n",
    "import urllib \n",
    "import string\n",
    "import regex\n",
    "import time\n",
    "import json\n",
    "import re"
   ]
  },
  {
   "cell_type": "markdown",
   "metadata": {},
   "source": [
    "## Character pages (Wiki data)"
   ]
  },
  {
   "cell_type": "markdown",
   "metadata": {},
   "source": [
    "**List of names:**<br>\n",
    "In order to download all character files from the wiki we need a list of all the character names. This is done by accessing this page - https://greysanatomy.fandom.com/wiki/Category:GA_Characters, where all names are listed. "
   ]
  },
  {
   "cell_type": "code",
   "execution_count": 5,
   "metadata": {},
   "outputs": [],
   "source": [
    "S = requests.Session()\n",
    "URL = 'https://greysanatomy.fandom.com/api.php'\n",
    "names = []\n",
    "\n",
    "PARAMS = {\n",
    "\"action\": \"query\",\n",
    "\"format\": \"json\",\n",
    "\"cmtitle\": \"Category:GA_Characters\",\n",
    "\"list\": \"categorymembers\",\n",
    "\"prop\": \"links\",\n",
    "\"cmlimit\": 'max'}\n",
    "\n",
    "R = S.get(url = URL, params = PARAMS)\n",
    "DATA = R.json()\n",
    "GA_characters = DATA[\"query\"][\"categorymembers\"]\n",
    "names += [page['title'] for page in GA_characters]\n",
    "cont = DATA['continue']['cmcontinue']  \n",
    "\n",
    "\n",
    "while('continue' in DATA):\n",
    "    PARAMS = {\n",
    "    \"action\": \"query\",\n",
    "    \"format\": \"json\",\n",
    "    \"cmtitle\": \"Category:GA_Characters\",\n",
    "    \"list\": \"categorymembers\",\n",
    "    \"prop\": \"links\",\n",
    "    \"cmlimit\": 'max',\n",
    "    \"cmcontinue\":cont}\n",
    "\n",
    "    R = S.get(url = URL, params = PARAMS)\n",
    "    DATA = R.json()\n",
    "    GA_characters = DATA[\"query\"][\"categorymembers\"]\n",
    "    names += [page['title'] for page in GA_characters]\n",
    "    try:\n",
    "        cont = DATA['continue']['cmcontinue']  \n",
    "    except KeyError:\n",
    "        pass\n",
    "\n",
    "last_name = names.index('Tommy Zicaro')\n",
    "names = names[:last_name + 1]"
   ]
  },
  {
   "cell_type": "markdown",
   "metadata": {},
   "source": [
    "Some of the character names have to be changed manually, so they don't cause problems later."
   ]
  },
  {
   "cell_type": "code",
   "execution_count": 6,
   "metadata": {},
   "outputs": [
    {
     "name": "stdout",
     "output_type": "stream",
     "text": [
      "Before: Paula (Life on Mars?)\n",
      "After Paula (Life on Mars)\n"
     ]
    }
   ],
   "source": [
    "idx_paula = names.index('Paula (Life on Mars?)')\n",
    "print(f'Before: {names[idx_paula]}')\n",
    "names[idx_paula] = re.sub(\"\\?\",\"\",names[idx_paula])\n",
    "print(f'After: {names[idx_paula]}')"
   ]
  },
  {
   "cell_type": "code",
   "execution_count": 7,
   "metadata": {},
   "outputs": [
    {
     "name": "stdout",
     "output_type": "stream",
     "text": [
      "Before: \"Cosmo\" Singh\n",
      "After: Cosmo Singh\n"
     ]
    }
   ],
   "source": [
    "idx_cosmo = names.index('\"Cosmo\" Singh')\n",
    "print(f'Before: {names[idx_cosmo]}')\n",
    "names[idx_cosmo]=re.sub(\"\\\"\",\"\",names[idx_cosmo])\n",
    "print(f'After: {names[idx_cosmo]}')"
   ]
  },
  {
   "cell_type": "markdown",
   "metadata": {},
   "source": [
    "We also caught some names that are not actual characters, so these are removed."
   ]
  },
  {
   "cell_type": "code",
   "execution_count": 8,
   "metadata": {},
   "outputs": [],
   "source": [
    "to_remove = []\n",
    "for name in names:\n",
    "    if ('Unnamed' in name) or ('User' in name) or ('Unseen' in name):\n",
    "        to_remove.append(name)"
   ]
  },
  {
   "cell_type": "code",
   "execution_count": 9,
   "metadata": {},
   "outputs": [
    {
     "data": {
      "text/plain": [
       "['User:ElitheEnby',\n",
       " 'User:Googoo12376',\n",
       " \"Season 1 (Grey's Anatomy)/Unnamed Characters\",\n",
       " \"Season 10 (Grey's Anatomy)/Unnamed Characters\",\n",
       " \"Season 11 (Grey's Anatomy)/Unnamed Characters\",\n",
       " \"Season 12 (Grey's Anatomy)/Unnamed Characters\",\n",
       " \"Season 13 (Grey's Anatomy)/Unnamed Characters\",\n",
       " \"Season 14 (Grey's Anatomy)/Unnamed Characters\",\n",
       " \"Season 15 (Grey's Anatomy)/Unnamed Characters\",\n",
       " \"Season 16 (Grey's Anatomy)/Unnamed Characters\",\n",
       " \"Season 17 (Grey's Anatomy)/Unnamed Characters\",\n",
       " \"Season 18 (Grey's Anatomy)/Unnamed Characters\",\n",
       " \"Season 2 (Grey's Anatomy)/Unnamed Characters\",\n",
       " \"Season 3 (Grey's Anatomy)/Unnamed Characters\",\n",
       " \"Season 4 (Grey's Anatomy)/Unnamed Characters\",\n",
       " \"Season 5 (Grey's Anatomy)/Unnamed Characters\",\n",
       " \"Season 6 (Grey's Anatomy)/Unnamed Characters\",\n",
       " \"Season 7 (Grey's Anatomy)/Unnamed Characters\",\n",
       " \"Season 8 (Grey's Anatomy)/Unnamed Characters\",\n",
       " \"Season 9 (Grey's Anatomy)/Unnamed Characters\",\n",
       " 'Unnamed Characters',\n",
       " \"Unseen Patients (Grey's Anatomy)\",\n",
       " \"Unseen Staff (Grey's Anatomy)\"]"
      ]
     },
     "execution_count": 9,
     "metadata": {},
     "output_type": "execute_result"
    }
   ],
   "source": [
    "to_remove"
   ]
  },
  {
   "cell_type": "code",
   "execution_count": 10,
   "metadata": {},
   "outputs": [],
   "source": [
    "names = [ele for ele in names if ele not in to_remove]\n",
    "query_names = [re.sub(\" \",\"_\",name) for name in names]"
   ]
  },
  {
   "cell_type": "markdown",
   "metadata": {},
   "source": [
    "We now have the list `query_names` which contains all character names in correct format for retrieving the files from the wiki."
   ]
  },
  {
   "cell_type": "markdown",
   "metadata": {},
   "source": [
    "### Downloading the character files (DO NOT RUN)\n",
    "Downloading the character files can take some time and does not need to be done, if you wish to run the notebook."
   ]
  },
  {
   "cell_type": "code",
   "execution_count": null,
   "metadata": {},
   "outputs": [],
   "source": [
    "baseurl=\"https://greysanatomy.fandom.com/api.php?\"\n",
    "action = \"action=query\"\n",
    "content = \"prop=revisions&rvprop=content&rvslots=*\"\n",
    "dataformat =\"format=json\"\n",
    "file_names = []\n",
    "\n",
    "for name in tqdm(query_names):\n",
    "    \n",
    "    query = f\"{baseurl}{action}&{content}&titles={name}&{dataformat}\"\n",
    "    r = urllib.request.urlopen(query)\n",
    "    data = r.read().decode('utf-8')\n",
    "\n",
    "    #save to txt file\n",
    "    if \"'\" in name:\n",
    "        name = re.sub(\"'\",\"\",name)\n",
    "    if \"/\" in name:\n",
    "        name=re.sub(\"/\",\"_\",name)\n",
    "    if \"\\\"\" in name:\n",
    "        name=re.sub(\"\\\"\",\"\",name)\n",
    "\n",
    "    text_file = open(f\"./character_files/{name}.txt\", \"w\")\n",
    "    n = text_file.write(data)\n",
    "    text_file.close()\n",
    "\n",
    "    file_names.append(name)\n",
    "\n",
    "pd.DataFrame({'Name': file_names}).to_csv('character_names.csv',index=False)"
   ]
  },
  {
   "cell_type": "markdown",
   "metadata": {},
   "source": [
    "All character pages have now been downloaded in seperate files.<br>\n",
    "`file_names` is the list of character names as they are written in the txt file titles, where ', / and \\ are removed if included in the character name. We have created a .csv file with all the names, so instead of running the code above again, we can just import it."
   ]
  },
  {
   "cell_type": "code",
   "execution_count": 34,
   "metadata": {},
   "outputs": [
    {
     "data": {
      "text/html": [
       "<div>\n",
       "<style scoped>\n",
       "    .dataframe tbody tr th:only-of-type {\n",
       "        vertical-align: middle;\n",
       "    }\n",
       "\n",
       "    .dataframe tbody tr th {\n",
       "        vertical-align: top;\n",
       "    }\n",
       "\n",
       "    .dataframe thead th {\n",
       "        text-align: right;\n",
       "    }\n",
       "</style>\n",
       "<table border=\"1\" class=\"dataframe\">\n",
       "  <thead>\n",
       "    <tr style=\"text-align: right;\">\n",
       "      <th></th>\n",
       "      <th>Name</th>\n",
       "    </tr>\n",
       "  </thead>\n",
       "  <tbody>\n",
       "    <tr>\n",
       "      <th>0</th>\n",
       "      <td>Aaliyah</td>\n",
       "    </tr>\n",
       "    <tr>\n",
       "      <th>1</th>\n",
       "      <td>Aasif</td>\n",
       "    </tr>\n",
       "    <tr>\n",
       "      <th>2</th>\n",
       "      <td>Charlie_Abbott</td>\n",
       "    </tr>\n",
       "    <tr>\n",
       "      <th>3</th>\n",
       "      <td>Abena</td>\n",
       "    </tr>\n",
       "    <tr>\n",
       "      <th>4</th>\n",
       "      <td>Kamal_Aboud</td>\n",
       "    </tr>\n",
       "  </tbody>\n",
       "</table>\n",
       "</div>"
      ],
      "text/plain": [
       "             Name\n",
       "0         Aaliyah\n",
       "1           Aasif\n",
       "2  Charlie_Abbott\n",
       "3           Abena\n",
       "4     Kamal_Aboud"
      ]
     },
     "execution_count": 34,
     "metadata": {},
     "output_type": "execute_result"
    }
   ],
   "source": [
    "characters=pd.read_csv('character_names.csv')\n",
    "characters.head()"
   ]
  },
  {
   "cell_type": "markdown",
   "metadata": {},
   "source": [
    "<br><br>\n",
    "# Episode pages (Wiki data)\n",
    "In this section, data describing Grey's Anatomy episodes is retrieved from multiple sources, e.g. wiki and IMDB.<br> The final retrieved episode data will result in below dataframe (snip)"
   ]
  },
  {
   "cell_type": "code",
   "execution_count": 190,
   "metadata": {},
   "outputs": [
    {
     "data": {
      "text/html": [
       "<div>\n",
       "<style scoped>\n",
       "    .dataframe tbody tr th:only-of-type {\n",
       "        vertical-align: middle;\n",
       "    }\n",
       "\n",
       "    .dataframe tbody tr th {\n",
       "        vertical-align: top;\n",
       "    }\n",
       "\n",
       "    .dataframe thead th {\n",
       "        text-align: right;\n",
       "    }\n",
       "</style>\n",
       "<table border=\"1\" class=\"dataframe\">\n",
       "  <thead>\n",
       "    <tr style=\"text-align: right;\">\n",
       "      <th></th>\n",
       "      <th>season</th>\n",
       "      <th>episode</th>\n",
       "      <th>episode_file</th>\n",
       "      <th>description</th>\n",
       "      <th>quotes</th>\n",
       "      <th>airdate</th>\n",
       "      <th>rating</th>\n",
       "      <th>votes</th>\n",
       "      <th>views(milion)</th>\n",
       "      <th>transcript</th>\n",
       "    </tr>\n",
       "  </thead>\n",
       "  <tbody>\n",
       "    <tr>\n",
       "      <th>0</th>\n",
       "      <td>1</td>\n",
       "      <td>A Hard Days Night</td>\n",
       "      <td>1_A_Hard_Days_Night</td>\n",
       "      <td>The game. They say a person either has what it...</td>\n",
       "      <td>\\n:'''[[Meredith Grey|Meredith]]:''' We don't ...</td>\n",
       "      <td>27 Mar. 2005</td>\n",
       "      <td>8.4</td>\n",
       "      <td>2417</td>\n",
       "      <td>16.25</td>\n",
       "      <td>Meredith VO: The game. They say either a perso...</td>\n",
       "    </tr>\n",
       "    <tr>\n",
       "      <th>1</th>\n",
       "      <td>1</td>\n",
       "      <td>The First Cut Is the Deepest</td>\n",
       "      <td>1_The_First_Cut_Is_the_Deepest</td>\n",
       "      <td>It's all about lines. The finish line at the e...</td>\n",
       "      <td>\\n:'''[[Alex Karev|Alex]]:''' Alex Karev. Nice...</td>\n",
       "      <td>3 Apr. 2005</td>\n",
       "      <td>8.2</td>\n",
       "      <td>1676</td>\n",
       "      <td>17.71</td>\n",
       "      <td>Previously On...\\nWebber: The seven years you ...</td>\n",
       "    </tr>\n",
       "    <tr>\n",
       "      <th>2</th>\n",
       "      <td>1</td>\n",
       "      <td>Winning a Battle Losing the War</td>\n",
       "      <td>1_Winning_a_Battle_Losing_the_War</td>\n",
       "      <td>We live out our lives on the surgical unit. Se...</td>\n",
       "      <td>\\n:'''[[Cristina Yang|Cristina]]:''' Oh, it's ...</td>\n",
       "      <td>10 Apr. 2005</td>\n",
       "      <td>8.1</td>\n",
       "      <td>1568</td>\n",
       "      <td>17.99</td>\n",
       "      <td>Meredith's in bed. It's 4:37am and raining.\\nM...</td>\n",
       "    </tr>\n",
       "  </tbody>\n",
       "</table>\n",
       "</div>"
      ],
      "text/plain": [
       "   season                          episode                       episode_file  \\\n",
       "0       1                A Hard Days Night                1_A_Hard_Days_Night   \n",
       "1       1     The First Cut Is the Deepest     1_The_First_Cut_Is_the_Deepest   \n",
       "2       1  Winning a Battle Losing the War  1_Winning_a_Battle_Losing_the_War   \n",
       "\n",
       "                                         description  \\\n",
       "0  The game. They say a person either has what it...   \n",
       "1  It's all about lines. The finish line at the e...   \n",
       "2  We live out our lives on the surgical unit. Se...   \n",
       "\n",
       "                                              quotes       airdate  rating  \\\n",
       "0  \\n:'''[[Meredith Grey|Meredith]]:''' We don't ...  27 Mar. 2005     8.4   \n",
       "1  \\n:'''[[Alex Karev|Alex]]:''' Alex Karev. Nice...   3 Apr. 2005     8.2   \n",
       "2  \\n:'''[[Cristina Yang|Cristina]]:''' Oh, it's ...  10 Apr. 2005     8.1   \n",
       "\n",
       "   votes  views(milion)                                         transcript  \n",
       "0   2417          16.25  Meredith VO: The game. They say either a perso...  \n",
       "1   1676          17.71  Previously On...\\nWebber: The seven years you ...  \n",
       "2   1568          17.99  Meredith's in bed. It's 4:37am and raining.\\nM...  "
      ]
     },
     "execution_count": 190,
     "metadata": {},
     "output_type": "execute_result"
    }
   ],
   "source": [
    "pd.read_excel('episode_data.xlsx').head(3)"
   ]
  },
  {
   "cell_type": "markdown",
   "metadata": {},
   "source": [
    "#### Extracting episode names\n",
    "By following the same procedure as when downloading character pages, a list of all episode names is required for queriyng the respective episode pages. For each season between 1 and 17 we extract the episode names by accessing the pages - https://greysanatomy.fandom.com/wiki/Season_1_(Grey's_Anatomy), where the season number is updated in loop \"*..Season_i_..*\" for i=1 to 17. \n",
    "\n",
    "RegEx is used to extract the episode names by identifying all episode links. Furthermore, the season number is stored for each episode. \n",
    "\n",
    "#### Downloading the episode files \n",
    "Looping through episode names found in each season page, the episode files are downloaded from https://greysanatomy.fandom.com/wiki/[EPISODE_NAME]"
   ]
  },
  {
   "cell_type": "code",
   "execution_count": 13,
   "metadata": {},
   "outputs": [
    {
     "data": {
      "application/vnd.jupyter.widget-view+json": {
       "model_id": "8f1621e098184d38bb949f7f71ad5845",
       "version_major": 2,
       "version_minor": 0
      },
      "text/plain": [
       "HBox(children=(HTML(value=''), FloatProgress(value=0.0, max=17.0), HTML(value='')))"
      ]
     },
     "metadata": {},
     "output_type": "display_data"
    },
    {
     "name": "stdout",
     "output_type": "stream",
     "text": [
      "\n"
     ]
    }
   ],
   "source": [
    "baseurl=\"https://greysanatomy.fandom.com/api.php?\"\n",
    "action = \"action=query\"\n",
    "content = \"prop=revisions&rvprop=content&rvslots=*\"\n",
    "dataformat =\"format=json\"\n",
    "episode_files=[]\n",
    "season=[]\n",
    "\n",
    "for i in tqdm(range(1,18)):\n",
    "    title=f\"Season_{i}_(Grey's_Anatomy)\"    \n",
    "    query = f\"{baseurl}{action}&{content}&titles={title}&{dataformat}\"\n",
    "    r = urllib.request.urlopen(query)\n",
    "    data = r.read().decode('utf-8')\n",
    "    \n",
    "    #Find links to all episodes in season i\n",
    "    episodes=re.findall(\"'''\\[\\[(.*?)(?:\\|.*?)?\\]\\]'''\",data)\n",
    "    episodes=[re.sub(' ','_',epi) for epi in episodes]\n",
    "    episodes=[re.sub('&','%26',epi) for epi in episodes]\n",
    "    \n",
    "    #download each episode file\n",
    "    for episode in episodes:\n",
    "        season.append(i)\n",
    "        query = f\"{baseurl}{action}&{content}&titles={episode}&{dataformat}\"\n",
    "        r = urllib.request.urlopen(query)\n",
    "        data = r.read().decode('utf-8')\n",
    "        filename=re.sub(r\"[!?'/,;.]\", '', episode)\n",
    "        episode_files.append(f\"{i}_{filename}\")\n",
    "        text_file = open(f\"./full_episode_files/{i}_{filename}.txt\", \"w\")\n",
    "        n = text_file.write(data)\n",
    "        text_file.close()"
   ]
  },
  {
   "cell_type": "code",
   "execution_count": 14,
   "metadata": {},
   "outputs": [],
   "source": [
    "episodes_df = pd.DataFrame(data={\"season\": season,\n",
    "                                 \"episode\": [re.sub('_',' ', episode[2:]) for episode in episode_files],\n",
    "                                 \"episode_file\": episode_files})\n",
    "episodes_df.to_csv(\"./episode_filenames.csv\", sep=',',index=False)"
   ]
  },
  {
   "cell_type": "markdown",
   "metadata": {},
   "source": [
    "All episode pages have now been downloaded in seperate files.<br>\n",
    "`episodes_df` is a dataframe of episode names as they are written in the txt file titles along with the respective season number. Again, a .csv file with all the episode names has been created, so instead of running the code above again, we can just import it (see below)."
   ]
  },
  {
   "cell_type": "code",
   "execution_count": 15,
   "metadata": {},
   "outputs": [
    {
     "data": {
      "text/html": [
       "<div>\n",
       "<style scoped>\n",
       "    .dataframe tbody tr th:only-of-type {\n",
       "        vertical-align: middle;\n",
       "    }\n",
       "\n",
       "    .dataframe tbody tr th {\n",
       "        vertical-align: top;\n",
       "    }\n",
       "\n",
       "    .dataframe thead th {\n",
       "        text-align: right;\n",
       "    }\n",
       "</style>\n",
       "<table border=\"1\" class=\"dataframe\">\n",
       "  <thead>\n",
       "    <tr style=\"text-align: right;\">\n",
       "      <th></th>\n",
       "      <th>season</th>\n",
       "      <th>episode</th>\n",
       "      <th>episode_file</th>\n",
       "    </tr>\n",
       "  </thead>\n",
       "  <tbody>\n",
       "    <tr>\n",
       "      <th>0</th>\n",
       "      <td>1</td>\n",
       "      <td>A Hard Days Night</td>\n",
       "      <td>1_A_Hard_Days_Night</td>\n",
       "    </tr>\n",
       "    <tr>\n",
       "      <th>1</th>\n",
       "      <td>1</td>\n",
       "      <td>The First Cut Is the Deepest</td>\n",
       "      <td>1_The_First_Cut_Is_the_Deepest</td>\n",
       "    </tr>\n",
       "    <tr>\n",
       "      <th>2</th>\n",
       "      <td>1</td>\n",
       "      <td>Winning a Battle Losing the War</td>\n",
       "      <td>1_Winning_a_Battle_Losing_the_War</td>\n",
       "    </tr>\n",
       "  </tbody>\n",
       "</table>\n",
       "</div>"
      ],
      "text/plain": [
       "   season                          episode                       episode_file\n",
       "0       1                A Hard Days Night                1_A_Hard_Days_Night\n",
       "1       1     The First Cut Is the Deepest     1_The_First_Cut_Is_the_Deepest\n",
       "2       1  Winning a Battle Losing the War  1_Winning_a_Battle_Losing_the_War"
      ]
     },
     "execution_count": 15,
     "metadata": {},
     "output_type": "execute_result"
    }
   ],
   "source": [
    "episodes=pd.read_csv(\"episode_filenames.csv\")\n",
    "episodes.head(3)"
   ]
  },
  {
   "cell_type": "markdown",
   "metadata": {},
   "source": [
    "<br>\n",
    "\n",
    "### Episode Descriptions and Quotes\n",
    "In each episode page there is a summary, list of cast, quotes, images, etc. For this analysis only the *summary* section and *quotes* section are relevant to describe the episodes. These two sections are identified using RegEx and stored as independent files respectively."
   ]
  },
  {
   "cell_type": "code",
   "execution_count": 30,
   "metadata": {},
   "outputs": [
    {
     "data": {
      "application/vnd.jupyter.widget-view+json": {
       "model_id": "2a5582aa0c3241238fd349a6d05a8a5c",
       "version_major": 2,
       "version_minor": 0
      },
      "text/plain": [
       "HBox(children=(HTML(value=''), FloatProgress(value=0.0, max=379.0), HTML(value='')))"
      ]
     },
     "metadata": {},
     "output_type": "display_data"
    },
    {
     "name": "stdout",
     "output_type": "stream",
     "text": [
      "\n"
     ]
    }
   ],
   "source": [
    "for file in tqdm(episodes.episode_file.values):\n",
    "    with open(f\"./full_episode_files/{file}.txt\", encoding='utf-8') as f:\n",
    "        try:\n",
    "            txt = f.read()\n",
    "            txt=re.sub(r'\\\\u2019',\"'\",re.sub(r'\\\\u201c|\\\\u201d','\"',txt))\n",
    "            txt=re.sub(r'\\\\u00a0',\" \",txt)\n",
    "            \n",
    "            #Episode description\n",
    "            sections=re.findall(r'(?:.*Quote\\|?|=(?:\\s)?Short Summary(?:\\s)?=)(.*)(?:==(?:\\s)?Cast(?:\\s)?==.*)(==(?:\\s)?Quotes(?:\\s)?==.*)(?:==(?:\\s)?See Also(?:\\s)?==.*)',txt)             \n",
    "            txt=' '.join(sections[0])   \n",
    "            if txt[0]=='=':\n",
    "                txt=txt[1:]\n",
    "            \n",
    "            #Quotes only\n",
    "            quotes=re.findall(\"(?:==(?:\\s)?Quotes(?:\\s)?==)(.*)\",txt)[0]\n",
    "            if quotes == '\\\\n\\\\n':\n",
    "                quotes =' '\n",
    "            \n",
    "            #save .txt files\n",
    "            text_file = open(f\"./quote_files/{file}.txt\", \"w\")\n",
    "            n = text_file.write(quotes)\n",
    "            text_file.close()\n",
    "            \n",
    "            episodes.loc[episodes.episode_file==file,'description'] = txt\n",
    "            episodes.loc[episodes.episode_file==file,'quotes'] = quotes\n",
    "        except IndexError:\n",
    "            print(file)\n",
    "            break\n",
    "\n",
    "episodes.to_excel(\"./episode_descriptions.xlsx\",index=False)"
   ]
  },
  {
   "cell_type": "code",
   "execution_count": 171,
   "metadata": {},
   "outputs": [
    {
     "data": {
      "text/html": [
       "<div>\n",
       "<style scoped>\n",
       "    .dataframe tbody tr th:only-of-type {\n",
       "        vertical-align: middle;\n",
       "    }\n",
       "\n",
       "    .dataframe tbody tr th {\n",
       "        vertical-align: top;\n",
       "    }\n",
       "\n",
       "    .dataframe thead th {\n",
       "        text-align: right;\n",
       "    }\n",
       "</style>\n",
       "<table border=\"1\" class=\"dataframe\">\n",
       "  <thead>\n",
       "    <tr style=\"text-align: right;\">\n",
       "      <th></th>\n",
       "      <th>season</th>\n",
       "      <th>episode</th>\n",
       "      <th>episode_file</th>\n",
       "      <th>description</th>\n",
       "      <th>quotes</th>\n",
       "    </tr>\n",
       "  </thead>\n",
       "  <tbody>\n",
       "    <tr>\n",
       "      <th>0</th>\n",
       "      <td>1</td>\n",
       "      <td>A Hard Days Night</td>\n",
       "      <td>1_A_Hard_Days_Night</td>\n",
       "      <td>The game. They say a person either has what it...</td>\n",
       "      <td>\\n:'''[[Meredith Grey|Meredith]]:''' We don't ...</td>\n",
       "    </tr>\n",
       "    <tr>\n",
       "      <th>1</th>\n",
       "      <td>1</td>\n",
       "      <td>The First Cut Is the Deepest</td>\n",
       "      <td>1_The_First_Cut_Is_the_Deepest</td>\n",
       "      <td>It's all about lines. The finish line at the e...</td>\n",
       "      <td>\\n:'''[[Alex Karev|Alex]]:''' Alex Karev. Nice...</td>\n",
       "    </tr>\n",
       "    <tr>\n",
       "      <th>2</th>\n",
       "      <td>1</td>\n",
       "      <td>Winning a Battle Losing the War</td>\n",
       "      <td>1_Winning_a_Battle_Losing_the_War</td>\n",
       "      <td>We live out our lives on the surgical unit. Se...</td>\n",
       "      <td>\\n:'''[[Cristina Yang|Cristina]]:''' Oh, it's ...</td>\n",
       "    </tr>\n",
       "    <tr>\n",
       "      <th>3</th>\n",
       "      <td>1</td>\n",
       "      <td>No Mans Land</td>\n",
       "      <td>1_No_Mans_Land</td>\n",
       "      <td>Intimacy is a four syllable word for \\\"Here is...</td>\n",
       "      <td>\\n:'''[[Meredith Grey|Meredith]]:''' Where are...</td>\n",
       "    </tr>\n",
       "    <tr>\n",
       "      <th>4</th>\n",
       "      <td>1</td>\n",
       "      <td>Shake Your Groove Thing</td>\n",
       "      <td>1_Shake_Your_Groove_Thing</td>\n",
       "      <td>Remember when you were a kid and your biggest ...</td>\n",
       "      <td>\\n:'''[[George O'Malley|George]]:''' Who else ...</td>\n",
       "    </tr>\n",
       "  </tbody>\n",
       "</table>\n",
       "</div>"
      ],
      "text/plain": [
       "   season                          episode                       episode_file  \\\n",
       "0       1                A Hard Days Night                1_A_Hard_Days_Night   \n",
       "1       1     The First Cut Is the Deepest     1_The_First_Cut_Is_the_Deepest   \n",
       "2       1  Winning a Battle Losing the War  1_Winning_a_Battle_Losing_the_War   \n",
       "3       1                     No Mans Land                     1_No_Mans_Land   \n",
       "4       1          Shake Your Groove Thing          1_Shake_Your_Groove_Thing   \n",
       "\n",
       "                                         description  \\\n",
       "0  The game. They say a person either has what it...   \n",
       "1  It's all about lines. The finish line at the e...   \n",
       "2  We live out our lives on the surgical unit. Se...   \n",
       "3  Intimacy is a four syllable word for \\\"Here is...   \n",
       "4  Remember when you were a kid and your biggest ...   \n",
       "\n",
       "                                              quotes  \n",
       "0  \\n:'''[[Meredith Grey|Meredith]]:''' We don't ...  \n",
       "1  \\n:'''[[Alex Karev|Alex]]:''' Alex Karev. Nice...  \n",
       "2  \\n:'''[[Cristina Yang|Cristina]]:''' Oh, it's ...  \n",
       "3  \\n:'''[[Meredith Grey|Meredith]]:''' Where are...  \n",
       "4  \\n:'''[[George O'Malley|George]]:''' Who else ...  "
      ]
     },
     "execution_count": 171,
     "metadata": {},
     "output_type": "execute_result"
    }
   ],
   "source": [
    "GA_wiki=pd.read_excel(\"episode_descriptions.xlsx\")\n",
    "GA_wiki.head()"
   ]
  },
  {
   "cell_type": "markdown",
   "metadata": {},
   "source": [
    "<br>\n",
    "\n",
    "## Episode Ratings (IMDB data)\n",
    "To retrieve information on the popularity of all episodes (ratings and views) the module `BeautifulSoup` is used in order to scrape HTML Content from the IMDB website https://www.imdb.com/title/tt0413573/episodes?season=1 - again looping over season 1 to 17. \n",
    "\n",
    "The retrieved data is stored in a dataframe"
   ]
  },
  {
   "cell_type": "code",
   "execution_count": 64,
   "metadata": {},
   "outputs": [
    {
     "data": {
      "application/vnd.jupyter.widget-view+json": {
       "model_id": "1f8f38a6381a4877aa0326293d270da2",
       "version_major": 2,
       "version_minor": 0
      },
      "text/plain": [
       "HBox(children=(HTML(value=''), FloatProgress(value=0.0, max=17.0), HTML(value='')))"
      ]
     },
     "metadata": {},
     "output_type": "display_data"
    },
    {
     "name": "stdout",
     "output_type": "stream",
     "text": [
      "\n"
     ]
    }
   ],
   "source": [
    "data = []\n",
    "# For season 1 to 17\n",
    "for sn in tqdm(range(1,18)):\n",
    "    # Request content from server  and parse with BeautifulSoup\n",
    "    response = requests.get('https://www.imdb.com/title/tt0413573/episodes?season=' + str(sn))\n",
    "    page_html = BeautifulSoup(response.text, 'html.parser')\n",
    "\n",
    "    # Select all the episode containers from the season's page\n",
    "    episode_containers = page_html.find_all('div', class_ = 'info')\n",
    "    for episodes in episode_containers:\n",
    "            episode_number = episodes.meta['content']\n",
    "            title = episodes.a['title']\n",
    "            airdate = episodes.find('div', class_='airdate').text.strip()\n",
    "            rating = float(episodes.find('span', class_='ipl-rating-star__rating').text)\n",
    "            total_votes = episodes.find('span', class_='ipl-rating-star__total-votes').text\n",
    "            total_votes = int(total_votes.strip('()').replace(\",\",\"\"))\n",
    "            desc = episodes.find('div', class_='item_description').text.strip()\n",
    "            \n",
    "            # Compiling the episode info and append\n",
    "            episode_data = [sn, episode_number, title, airdate, rating, total_votes, desc]\n",
    "            data.append(episode_data)\n",
    "\n",
    "#save to excel file\n",
    "GA_episodes = pd.DataFrame(data, columns = ['season', 'episode_number', 'title', 'airdate', \n",
    "                                            'rating', 'total_votes', 'short_summary'])\n",
    "GA_episodes.to_excel(\"./IMDB_data.xlsx\",index=False)"
   ]
  },
  {
   "cell_type": "markdown",
   "metadata": {},
   "source": [
    "Having saved the IMDB data in an .xlsx file, it can simply be loaded as a file. "
   ]
  },
  {
   "cell_type": "code",
   "execution_count": 65,
   "metadata": {},
   "outputs": [
    {
     "data": {
      "text/html": [
       "<div>\n",
       "<style scoped>\n",
       "    .dataframe tbody tr th:only-of-type {\n",
       "        vertical-align: middle;\n",
       "    }\n",
       "\n",
       "    .dataframe tbody tr th {\n",
       "        vertical-align: top;\n",
       "    }\n",
       "\n",
       "    .dataframe thead th {\n",
       "        text-align: right;\n",
       "    }\n",
       "</style>\n",
       "<table border=\"1\" class=\"dataframe\">\n",
       "  <thead>\n",
       "    <tr style=\"text-align: right;\">\n",
       "      <th></th>\n",
       "      <th>season</th>\n",
       "      <th>episode_number</th>\n",
       "      <th>title</th>\n",
       "      <th>airdate</th>\n",
       "      <th>rating</th>\n",
       "      <th>total_votes</th>\n",
       "      <th>short_summary</th>\n",
       "    </tr>\n",
       "  </thead>\n",
       "  <tbody>\n",
       "    <tr>\n",
       "      <th>0</th>\n",
       "      <td>1</td>\n",
       "      <td>1</td>\n",
       "      <td>A Hard Day's Night</td>\n",
       "      <td>27 Mar. 2005</td>\n",
       "      <td>8.4</td>\n",
       "      <td>2417</td>\n",
       "      <td>The first shift for new surgical interns Mered...</td>\n",
       "    </tr>\n",
       "    <tr>\n",
       "      <th>1</th>\n",
       "      <td>1</td>\n",
       "      <td>2</td>\n",
       "      <td>The First Cut Is the Deepest</td>\n",
       "      <td>3 Apr. 2005</td>\n",
       "      <td>8.2</td>\n",
       "      <td>1676</td>\n",
       "      <td>A rape victim is admitted, who managed to hold...</td>\n",
       "    </tr>\n",
       "    <tr>\n",
       "      <th>2</th>\n",
       "      <td>1</td>\n",
       "      <td>3</td>\n",
       "      <td>Winning a Battle, Losing the War</td>\n",
       "      <td>10 Apr. 2005</td>\n",
       "      <td>8.1</td>\n",
       "      <td>1568</td>\n",
       "      <td>Izzie and Cristina are assigned a close-to-bra...</td>\n",
       "    </tr>\n",
       "    <tr>\n",
       "      <th>3</th>\n",
       "      <td>1</td>\n",
       "      <td>4</td>\n",
       "      <td>No Man's Land</td>\n",
       "      <td>17 Apr. 2005</td>\n",
       "      <td>8.1</td>\n",
       "      <td>1489</td>\n",
       "      <td>Alex uses Izzie's modeling against her, and he...</td>\n",
       "    </tr>\n",
       "    <tr>\n",
       "      <th>4</th>\n",
       "      <td>1</td>\n",
       "      <td>5</td>\n",
       "      <td>Shake Your Groove Thing</td>\n",
       "      <td>24 Apr. 2005</td>\n",
       "      <td>8.2</td>\n",
       "      <td>1440</td>\n",
       "      <td>Meredith worries she did something wrong durin...</td>\n",
       "    </tr>\n",
       "  </tbody>\n",
       "</table>\n",
       "</div>"
      ],
      "text/plain": [
       "   season  episode_number                             title       airdate  \\\n",
       "0       1               1                A Hard Day's Night  27 Mar. 2005   \n",
       "1       1               2      The First Cut Is the Deepest   3 Apr. 2005   \n",
       "2       1               3  Winning a Battle, Losing the War  10 Apr. 2005   \n",
       "3       1               4                     No Man's Land  17 Apr. 2005   \n",
       "4       1               5           Shake Your Groove Thing  24 Apr. 2005   \n",
       "\n",
       "   rating  total_votes                                      short_summary  \n",
       "0     8.4         2417  The first shift for new surgical interns Mered...  \n",
       "1     8.2         1676  A rape victim is admitted, who managed to hold...  \n",
       "2     8.1         1568  Izzie and Cristina are assigned a close-to-bra...  \n",
       "3     8.1         1489  Alex uses Izzie's modeling against her, and he...  \n",
       "4     8.2         1440  Meredith worries she did something wrong durin...  "
      ]
     },
     "execution_count": 65,
     "metadata": {},
     "output_type": "execute_result"
    }
   ],
   "source": [
    "GA_imdb=pd.read_excel(\"IMDB_data.xlsx\")\n",
    "GA_imdb.head()"
   ]
  },
  {
   "cell_type": "markdown",
   "metadata": {},
   "source": [
    "<br>\n",
    "\n",
    "## Merge Wiki data and IMDB data"
   ]
  },
  {
   "cell_type": "code",
   "execution_count": 173,
   "metadata": {},
   "outputs": [
    {
     "name": "stdout",
     "output_type": "stream",
     "text": [
      "Wiki data size: 379\n",
      "IMDB data size: 380\n"
     ]
    }
   ],
   "source": [
    "print(f\"Wiki data size: {len(GA_wiki)}\\nIMDB data size: {len(GA_imdb)}\")"
   ]
  },
  {
   "cell_type": "markdown",
   "metadata": {},
   "source": [
    "Two episodes in IMDB data are merged to one, in order to merge wiki data and IMDB data. In IMDB data the episode \"She's Leaving Home\" has Part 1 and Part 2, whereas this is combined in one page in the wiki data. Thus, the two independent IMDB episodes are combined to one episode and hence aligning with the wiki data format. Following approachhes are used for merging the data:\n",
    "* The average of pt. 1 & pt. 2 is used in numerical columns.<br> \n",
    "* Air date is set to the one of part 1.<br>\n",
    "* Episode titles and summaries is concatenated."
   ]
  },
  {
   "cell_type": "code",
   "execution_count": 174,
   "metadata": {},
   "outputs": [],
   "source": [
    "#Values for each part\n",
    "pt1=GA_imdb.loc[GA_imdb.title == r\"She's Leaving Home: Part 1\", GA_imdb.columns].values[0]\n",
    "pt2=GA_imdb.loc[GA_imdb.title == r\"She's Leaving Home: Part 2\", GA_imdb.columns].values[0]\n",
    "\n",
    "#Merging values as per the approach outline above and insert at part 1 episode\n",
    "GA_imdb.loc[GA_imdb.title == r\"She's Leaving Home: Part 1\"] = [pt1[0], pt1[1], f\"{pt1[2]} & 2\", pt1[3],\n",
    "                                                                      (pt1[4]+pt2[4])/2, \n",
    "                                                                      pt1[5]+pt2[5],\n",
    "                                                                      pt1[6]+' '+pt2[6]]\n",
    "\n",
    "#Remove pt. 2 \n",
    "GA_imdb=GA_imdb.loc[GA_imdb.title != r\"She's Leaving Home: Part 2\"].reset_index(drop=True)"
   ]
  },
  {
   "cell_type": "code",
   "execution_count": 191,
   "metadata": {},
   "outputs": [],
   "source": [
    "GA_episodes=GA_wiki.copy()\n",
    "GA_episodes[['short_summary','airdate','rating','votes']] = GA_imdb[['short_summary','airdate','rating','total_votes']].values"
   ]
  },
  {
   "cell_type": "code",
   "execution_count": 192,
   "metadata": {},
   "outputs": [
    {
     "data": {
      "text/html": [
       "<div>\n",
       "<style scoped>\n",
       "    .dataframe tbody tr th:only-of-type {\n",
       "        vertical-align: middle;\n",
       "    }\n",
       "\n",
       "    .dataframe tbody tr th {\n",
       "        vertical-align: top;\n",
       "    }\n",
       "\n",
       "    .dataframe thead th {\n",
       "        text-align: right;\n",
       "    }\n",
       "</style>\n",
       "<table border=\"1\" class=\"dataframe\">\n",
       "  <thead>\n",
       "    <tr style=\"text-align: right;\">\n",
       "      <th></th>\n",
       "      <th>season</th>\n",
       "      <th>episode</th>\n",
       "      <th>episode_file</th>\n",
       "      <th>description</th>\n",
       "      <th>quotes</th>\n",
       "      <th>short_summary</th>\n",
       "      <th>airdate</th>\n",
       "      <th>rating</th>\n",
       "      <th>votes</th>\n",
       "    </tr>\n",
       "  </thead>\n",
       "  <tbody>\n",
       "    <tr>\n",
       "      <th>0</th>\n",
       "      <td>1</td>\n",
       "      <td>A Hard Days Night</td>\n",
       "      <td>1_A_Hard_Days_Night</td>\n",
       "      <td>The game. They say a person either has what it...</td>\n",
       "      <td>\\n:'''[[Meredith Grey|Meredith]]:''' We don't ...</td>\n",
       "      <td>The first shift for new surgical interns Mered...</td>\n",
       "      <td>27 Mar. 2005</td>\n",
       "      <td>8.4</td>\n",
       "      <td>2417</td>\n",
       "    </tr>\n",
       "    <tr>\n",
       "      <th>1</th>\n",
       "      <td>1</td>\n",
       "      <td>The First Cut Is the Deepest</td>\n",
       "      <td>1_The_First_Cut_Is_the_Deepest</td>\n",
       "      <td>It's all about lines. The finish line at the e...</td>\n",
       "      <td>\\n:'''[[Alex Karev|Alex]]:''' Alex Karev. Nice...</td>\n",
       "      <td>A rape victim is admitted, who managed to hold...</td>\n",
       "      <td>3 Apr. 2005</td>\n",
       "      <td>8.2</td>\n",
       "      <td>1676</td>\n",
       "    </tr>\n",
       "    <tr>\n",
       "      <th>2</th>\n",
       "      <td>1</td>\n",
       "      <td>Winning a Battle Losing the War</td>\n",
       "      <td>1_Winning_a_Battle_Losing_the_War</td>\n",
       "      <td>We live out our lives on the surgical unit. Se...</td>\n",
       "      <td>\\n:'''[[Cristina Yang|Cristina]]:''' Oh, it's ...</td>\n",
       "      <td>Izzie and Cristina are assigned a close-to-bra...</td>\n",
       "      <td>10 Apr. 2005</td>\n",
       "      <td>8.1</td>\n",
       "      <td>1568</td>\n",
       "    </tr>\n",
       "    <tr>\n",
       "      <th>3</th>\n",
       "      <td>1</td>\n",
       "      <td>No Mans Land</td>\n",
       "      <td>1_No_Mans_Land</td>\n",
       "      <td>Intimacy is a four syllable word for \\\"Here is...</td>\n",
       "      <td>\\n:'''[[Meredith Grey|Meredith]]:''' Where are...</td>\n",
       "      <td>Alex uses Izzie's modeling against her, and he...</td>\n",
       "      <td>17 Apr. 2005</td>\n",
       "      <td>8.1</td>\n",
       "      <td>1489</td>\n",
       "    </tr>\n",
       "    <tr>\n",
       "      <th>4</th>\n",
       "      <td>1</td>\n",
       "      <td>Shake Your Groove Thing</td>\n",
       "      <td>1_Shake_Your_Groove_Thing</td>\n",
       "      <td>Remember when you were a kid and your biggest ...</td>\n",
       "      <td>\\n:'''[[George O'Malley|George]]:''' Who else ...</td>\n",
       "      <td>Meredith worries she did something wrong durin...</td>\n",
       "      <td>24 Apr. 2005</td>\n",
       "      <td>8.2</td>\n",
       "      <td>1440</td>\n",
       "    </tr>\n",
       "  </tbody>\n",
       "</table>\n",
       "</div>"
      ],
      "text/plain": [
       "   season                          episode                       episode_file  \\\n",
       "0       1                A Hard Days Night                1_A_Hard_Days_Night   \n",
       "1       1     The First Cut Is the Deepest     1_The_First_Cut_Is_the_Deepest   \n",
       "2       1  Winning a Battle Losing the War  1_Winning_a_Battle_Losing_the_War   \n",
       "3       1                     No Mans Land                     1_No_Mans_Land   \n",
       "4       1          Shake Your Groove Thing          1_Shake_Your_Groove_Thing   \n",
       "\n",
       "                                         description  \\\n",
       "0  The game. They say a person either has what it...   \n",
       "1  It's all about lines. The finish line at the e...   \n",
       "2  We live out our lives on the surgical unit. Se...   \n",
       "3  Intimacy is a four syllable word for \\\"Here is...   \n",
       "4  Remember when you were a kid and your biggest ...   \n",
       "\n",
       "                                              quotes  \\\n",
       "0  \\n:'''[[Meredith Grey|Meredith]]:''' We don't ...   \n",
       "1  \\n:'''[[Alex Karev|Alex]]:''' Alex Karev. Nice...   \n",
       "2  \\n:'''[[Cristina Yang|Cristina]]:''' Oh, it's ...   \n",
       "3  \\n:'''[[Meredith Grey|Meredith]]:''' Where are...   \n",
       "4  \\n:'''[[George O'Malley|George]]:''' Who else ...   \n",
       "\n",
       "                                       short_summary       airdate  rating  \\\n",
       "0  The first shift for new surgical interns Mered...  27 Mar. 2005     8.4   \n",
       "1  A rape victim is admitted, who managed to hold...   3 Apr. 2005     8.2   \n",
       "2  Izzie and Cristina are assigned a close-to-bra...  10 Apr. 2005     8.1   \n",
       "3  Alex uses Izzie's modeling against her, and he...  17 Apr. 2005     8.1   \n",
       "4  Meredith worries she did something wrong durin...  24 Apr. 2005     8.2   \n",
       "\n",
       "   votes  \n",
       "0   2417  \n",
       "1   1676  \n",
       "2   1568  \n",
       "3   1489  \n",
       "4   1440  "
      ]
     },
     "execution_count": 192,
     "metadata": {},
     "output_type": "execute_result"
    }
   ],
   "source": [
    "GA_episodes.head()"
   ]
  },
  {
   "cell_type": "markdown",
   "metadata": {},
   "source": [
    "<br>\n",
    "\n",
    "## Views (Wikipedia data)"
   ]
  },
  {
   "attachments": {
    "image.png": {
     "image/png": "[encoded data removed]"
    }
   },
   "cell_type": "markdown",
   "metadata": {},
   "source": [
    "The no. of views per episode is retrived from https://en.wikipedia.org/wiki/List_of_Grey's_Anatomy_episodes in the right-most column\n",
    "![image.png](attachment:image.png)"
   ]
  },
  {
   "cell_type": "code",
   "execution_count": 164,
   "metadata": {},
   "outputs": [],
   "source": [
    "url = \"https://en.wikipedia.org/wiki/List_of_Grey%27s_Anatomy_episodes\"\n",
    "r = requests.get(url)\n",
    "soup = BeautifulSoup(r.content, \"html.parser\")\n",
    "row_list = []\n",
    "\n",
    "for sn in range(1,18):\n",
    "    table = soup.find_all('table')[sn]\n",
    "    rows = table.find_all('tr')\n",
    "    for tr in rows:\n",
    "        if tr==rows[0]:\n",
    "            pass #None row\n",
    "        else:\n",
    "            td = tr.find_all('td')\n",
    "            row = [i.text for i in td]\n",
    "            if sn <= 10:\n",
    "                row=[value for i,value in enumerate(row) if i != 5]\n",
    "            row_list.append(row)\n",
    "\n",
    "#Wiki table to dataframe\n",
    "GA_views=pd.DataFrame(row_list,columns=[\"No. Epsiode\", \"Episode\",\"Directed by\",\"Written by\",\"Aired\", \"Views\"])\n",
    "#Value settings\n",
    "GA_views[\"Views\"]=GA_views[\"Views\"].replace(r\"\\[.*?]\", '',regex=True)\n",
    "GA_views[\"No. Epsiode\"]=pd.to_numeric(GA_views[\"No. Epsiode\"])"
   ]
  },
  {
   "cell_type": "markdown",
   "metadata": {},
   "source": [
    "Similar to the IMDB data, some episodes with a pt. 1 and pt. 2 are merged into one episode row and therefore we manually adjust the views data to align with no. of rows in the current wiki data table. "
   ]
  },
  {
   "cell_type": "code",
   "execution_count": 178,
   "metadata": {},
   "outputs": [
    {
     "data": {
      "text/html": [
       "<div>\n",
       "<style scoped>\n",
       "    .dataframe tbody tr th:only-of-type {\n",
       "        vertical-align: middle;\n",
       "    }\n",
       "\n",
       "    .dataframe tbody tr th {\n",
       "        vertical-align: top;\n",
       "    }\n",
       "\n",
       "    .dataframe thead th {\n",
       "        text-align: right;\n",
       "    }\n",
       "</style>\n",
       "<table border=\"1\" class=\"dataframe\">\n",
       "  <thead>\n",
       "    <tr style=\"text-align: right;\">\n",
       "      <th></th>\n",
       "      <th>No. Epsiode</th>\n",
       "      <th>Episode</th>\n",
       "      <th>Directed by</th>\n",
       "      <th>Written by</th>\n",
       "      <th>Aired</th>\n",
       "      <th>Views</th>\n",
       "    </tr>\n",
       "  </thead>\n",
       "  <tbody>\n",
       "    <tr>\n",
       "      <th>57</th>\n",
       "      <td>2223</td>\n",
       "      <td>\"The Other Side of This Life\"</td>\n",
       "      <td>Michael Grossman</td>\n",
       "      <td>Shonda Rhimes</td>\n",
       "      <td>May 3, 2007 (2007-05-03)</td>\n",
       "      <td>21.23</td>\n",
       "    </tr>\n",
       "    <tr>\n",
       "      <th>75</th>\n",
       "      <td>1617</td>\n",
       "      <td>\"Freedom\"</td>\n",
       "      <td>Rob Corn</td>\n",
       "      <td>Shonda Rhimes</td>\n",
       "      <td>May 22, 2008 (2008-05-22)</td>\n",
       "      <td>18.09</td>\n",
       "    </tr>\n",
       "    <tr>\n",
       "      <th>76</th>\n",
       "      <td>12</td>\n",
       "      <td>\"Dream a Little Dream of Me\"</td>\n",
       "      <td>Rob CornMichael Pressman</td>\n",
       "      <td>Shonda Rhimes</td>\n",
       "      <td>September 25, 2008 (2008-09-25)</td>\n",
       "      <td>18.30</td>\n",
       "    </tr>\n",
       "    <tr>\n",
       "      <th>238</th>\n",
       "      <td>2223</td>\n",
       "      <td>\"She's Leaving Home\"</td>\n",
       "      <td>Chris Hayden</td>\n",
       "      <td>Stacy McKee</td>\n",
       "      <td>April 30, 2015 (2015-04-30)</td>\n",
       "      <td>8.74</td>\n",
       "    </tr>\n",
       "  </tbody>\n",
       "</table>\n",
       "</div>"
      ],
      "text/plain": [
       "     No. Epsiode                        Episode               Directed by  \\\n",
       "57          2223  \"The Other Side of This Life\"          Michael Grossman   \n",
       "75          1617                      \"Freedom\"                  Rob Corn   \n",
       "76            12   \"Dream a Little Dream of Me\"  Rob CornMichael Pressman   \n",
       "238         2223           \"She's Leaving Home\"              Chris Hayden   \n",
       "\n",
       "        Written by                            Aired  Views  \n",
       "57   Shonda Rhimes         May 3, 2007 (2007-05-03)  21.23  \n",
       "75   Shonda Rhimes        May 22, 2008 (2008-05-22)  18.09  \n",
       "76   Shonda Rhimes  September 25, 2008 (2008-09-25)  18.30  \n",
       "238    Stacy McKee      April 30, 2015 (2015-04-30)   8.74  "
      ]
     },
     "execution_count": 178,
     "metadata": {},
     "output_type": "execute_result"
    }
   ],
   "source": [
    "#Find episodes with pt. 1 & pt. 2\n",
    "GA_views.loc[(GA_views[\"No. Epsiode\"]>30) | (GA_views['Episode']==r'\"Dream a Little Dream of Me\"')]"
   ]
  },
  {
   "cell_type": "code",
   "execution_count": 179,
   "metadata": {},
   "outputs": [],
   "source": [
    "views_list=GA_views.Views.iloc[:58].tolist()\n",
    "views_list.extend(GA_views.Views.iloc[57:76].tolist())\n",
    "views_list.extend(GA_views.Views.iloc[75:77].tolist())\n",
    "views_list.extend(GA_views.Views.iloc[76:].tolist())"
   ]
  },
  {
   "cell_type": "markdown",
   "metadata": {},
   "source": [
    "Appending retrieved 'views' data to episodes dataframe"
   ]
  },
  {
   "cell_type": "code",
   "execution_count": 193,
   "metadata": {},
   "outputs": [],
   "source": [
    "GA_episodes['views(milion)']=views_list"
   ]
  },
  {
   "cell_type": "markdown",
   "metadata": {},
   "source": [
    "<br>\n",
    "\n",
    "## Transcripts data"
   ]
  },
  {
   "cell_type": "markdown",
   "metadata": {},
   "source": [
    "The final data attribute to include for the episodes is transcripts. The transcripts provides information of the language used in each episodes. This is very useful when e.g. conducting sentiment analysis.\n",
    "\n",
    "First, the links to each transcript page are extracted from http://transcripts.foreverdreaming.org/viewforum.php?f=11&start=0 - looping through all pages with the \"start=page\" parameter. "
   ]
  },
  {
   "cell_type": "code",
   "execution_count": 57,
   "metadata": {},
   "outputs": [],
   "source": [
    "trans_link=[]\n",
    "# Request content from server  and parse with BeautifulSoup\n",
    "for page in range(0,376,25):\n",
    "    response = requests.get(f'http://transcripts.foreverdreaming.org/viewforum.php?f=11&start={page}')\n",
    "    page_html = BeautifulSoup(response.text, 'html.parser')\n",
    "    for a in page_html.find_all('a',class_=\"topictitle\"):\n",
    "        trans_link.append(a['href'][1:])\n",
    "\n",
    "#Excluding non-episode links\n",
    "trans_link=[link for link in trans_link if '/viewtopic.php?f=11&t=32146&' not in link[:len('/viewtopic.php?f=11&t=32146&')]]\n",
    "trans_link=[link for link in trans_link if '/viewtopic.php?f=11&t=6456&' not in link[:len('/viewtopic.php?f=11&t=6456&')]]\n",
    "\n",
    "#Up to and incl. last episode in season 17\n",
    "last_idx = [idx for idx, s in enumerate(trans_link) if '/viewtopic.php?f=11&t=45210' in s][0]\n",
    "trans_link=trans_link[:last_idx+1]"
   ]
  },
  {
   "cell_type": "markdown",
   "metadata": {},
   "source": [
    "Looping through all links stored in `trans_link` all episode transcripts can be retrieved."
   ]
  },
  {
   "cell_type": "code",
   "execution_count": 58,
   "metadata": {},
   "outputs": [
    {
     "data": {
      "application/vnd.jupyter.widget-view+json": {
       "model_id": "28021f92439140b4b2ec506fbcd78b8c",
       "version_major": 2,
       "version_minor": 0
      },
      "text/plain": [
       "HBox(children=(HTML(value=''), FloatProgress(value=0.0, max=379.0), HTML(value='')))"
      ]
     },
     "metadata": {},
     "output_type": "display_data"
    },
    {
     "name": "stdout",
     "output_type": "stream",
     "text": [
      "\n"
     ]
    }
   ],
   "source": [
    "all_transcripts=[]\n",
    "for link in tqdm(trans_link):\n",
    "    response = requests.get('http://transcripts.foreverdreaming.org'+link)\n",
    "    page_html = BeautifulSoup(response.text, 'html.parser')\n",
    "    transcript=[]\n",
    "    for quote in page_html.find_all('p')[6:]:\n",
    "        transcript.append(quote.text.strip())\n",
    "    all_transcripts.append(transcript)\n",
    "\n",
    "#saving to text files\n",
    "for num,trans in enumerate(all_transcripts):\n",
    "    with open(f\"./transcripts/episode_{num}.txt\", 'w', encoding='utf-8') as f:\n",
    "        f.write('\\n'.join(trans))"
   ]
  },
  {
   "cell_type": "markdown",
   "metadata": {},
   "source": [
    "Transcript example:"
   ]
  },
  {
   "cell_type": "code",
   "execution_count": 60,
   "metadata": {},
   "outputs": [
    {
     "data": {
      "text/plain": [
       "[\"Meredith VO: The game. They say either a person has what it takes to play, or they don't. My mother was one of the greats. Me, on the other hand...I'm kinda screwed.\",\n",
       " '(Meredith wakes up on the couch and pulls a blanket off a naked man on the floor, wrapping it around herself. She hits him with a pillow and he grunts, waking up. He lifts up her bra.)',\n",
       " 'Man: This...is...?']"
      ]
     },
     "execution_count": 60,
     "metadata": {},
     "output_type": "execute_result"
    }
   ],
   "source": [
    "all_transcripts[0][:3] #Season 1, Episode 1"
   ]
  },
  {
   "cell_type": "markdown",
   "metadata": {},
   "source": [
    "<br>\n",
    "The transcripts are added as feature in the episode dataframe."
   ]
  },
  {
   "cell_type": "code",
   "execution_count": 194,
   "metadata": {},
   "outputs": [],
   "source": [
    "episode_transcripts=['\\n'.join(transcript) for transcript in all_transcripts]\n",
    "GA_episodes['transcript'] = episode_transcripts\n",
    "GA_episodes.to_excel('episode_data.xlsx',index=False)"
   ]
  },
  {
   "cell_type": "code",
   "execution_count": 195,
   "metadata": {},
   "outputs": [
    {
     "data": {
      "text/html": [
       "<div>\n",
       "<style scoped>\n",
       "    .dataframe tbody tr th:only-of-type {\n",
       "        vertical-align: middle;\n",
       "    }\n",
       "\n",
       "    .dataframe tbody tr th {\n",
       "        vertical-align: top;\n",
       "    }\n",
       "\n",
       "    .dataframe thead th {\n",
       "        text-align: right;\n",
       "    }\n",
       "</style>\n",
       "<table border=\"1\" class=\"dataframe\">\n",
       "  <thead>\n",
       "    <tr style=\"text-align: right;\">\n",
       "      <th></th>\n",
       "      <th>season</th>\n",
       "      <th>episode</th>\n",
       "      <th>episode_file</th>\n",
       "      <th>description</th>\n",
       "      <th>quotes</th>\n",
       "      <th>short_summary</th>\n",
       "      <th>airdate</th>\n",
       "      <th>rating</th>\n",
       "      <th>votes</th>\n",
       "      <th>views(milion)</th>\n",
       "      <th>transcript</th>\n",
       "    </tr>\n",
       "  </thead>\n",
       "  <tbody>\n",
       "    <tr>\n",
       "      <th>0</th>\n",
       "      <td>1</td>\n",
       "      <td>A Hard Days Night</td>\n",
       "      <td>1_A_Hard_Days_Night</td>\n",
       "      <td>The game. They say a person either has what it...</td>\n",
       "      <td>\\n:'''[[Meredith Grey|Meredith]]:''' We don't ...</td>\n",
       "      <td>The first shift for new surgical interns Mered...</td>\n",
       "      <td>27 Mar. 2005</td>\n",
       "      <td>8.4</td>\n",
       "      <td>2417</td>\n",
       "      <td>16.25</td>\n",
       "      <td>Meredith VO: The game. They say either a perso...</td>\n",
       "    </tr>\n",
       "    <tr>\n",
       "      <th>1</th>\n",
       "      <td>1</td>\n",
       "      <td>The First Cut Is the Deepest</td>\n",
       "      <td>1_The_First_Cut_Is_the_Deepest</td>\n",
       "      <td>It's all about lines. The finish line at the e...</td>\n",
       "      <td>\\n:'''[[Alex Karev|Alex]]:''' Alex Karev. Nice...</td>\n",
       "      <td>A rape victim is admitted, who managed to hold...</td>\n",
       "      <td>3 Apr. 2005</td>\n",
       "      <td>8.2</td>\n",
       "      <td>1676</td>\n",
       "      <td>17.71</td>\n",
       "      <td>Previously On...\\nWebber: The seven years you ...</td>\n",
       "    </tr>\n",
       "    <tr>\n",
       "      <th>2</th>\n",
       "      <td>1</td>\n",
       "      <td>Winning a Battle Losing the War</td>\n",
       "      <td>1_Winning_a_Battle_Losing_the_War</td>\n",
       "      <td>We live out our lives on the surgical unit. Se...</td>\n",
       "      <td>\\n:'''[[Cristina Yang|Cristina]]:''' Oh, it's ...</td>\n",
       "      <td>Izzie and Cristina are assigned a close-to-bra...</td>\n",
       "      <td>10 Apr. 2005</td>\n",
       "      <td>8.1</td>\n",
       "      <td>1568</td>\n",
       "      <td>17.99</td>\n",
       "      <td>Meredith's in bed. It's 4:37am and raining.\\nM...</td>\n",
       "    </tr>\n",
       "    <tr>\n",
       "      <th>3</th>\n",
       "      <td>1</td>\n",
       "      <td>No Mans Land</td>\n",
       "      <td>1_No_Mans_Land</td>\n",
       "      <td>Intimacy is a four syllable word for \\\"Here is...</td>\n",
       "      <td>\\n:'''[[Meredith Grey|Meredith]]:''' Where are...</td>\n",
       "      <td>Alex uses Izzie's modeling against her, and he...</td>\n",
       "      <td>17 Apr. 2005</td>\n",
       "      <td>8.1</td>\n",
       "      <td>1489</td>\n",
       "      <td>19.18</td>\n",
       "      <td>(Opens seeing Meredith through a rain covered ...</td>\n",
       "    </tr>\n",
       "    <tr>\n",
       "      <th>4</th>\n",
       "      <td>1</td>\n",
       "      <td>Shake Your Groove Thing</td>\n",
       "      <td>1_Shake_Your_Groove_Thing</td>\n",
       "      <td>Remember when you were a kid and your biggest ...</td>\n",
       "      <td>\\n:'''[[George O'Malley|George]]:''' Who else ...</td>\n",
       "      <td>Meredith worries she did something wrong durin...</td>\n",
       "      <td>24 Apr. 2005</td>\n",
       "      <td>8.2</td>\n",
       "      <td>1440</td>\n",
       "      <td>17.90</td>\n",
       "      <td>(Music: The Ditty Bops-Wake Up)\\n(Meredith sit...</td>\n",
       "    </tr>\n",
       "  </tbody>\n",
       "</table>\n",
       "</div>"
      ],
      "text/plain": [
       "   season                          episode                       episode_file  \\\n",
       "0       1                A Hard Days Night                1_A_Hard_Days_Night   \n",
       "1       1     The First Cut Is the Deepest     1_The_First_Cut_Is_the_Deepest   \n",
       "2       1  Winning a Battle Losing the War  1_Winning_a_Battle_Losing_the_War   \n",
       "3       1                     No Mans Land                     1_No_Mans_Land   \n",
       "4       1          Shake Your Groove Thing          1_Shake_Your_Groove_Thing   \n",
       "\n",
       "                                         description  \\\n",
       "0  The game. They say a person either has what it...   \n",
       "1  It's all about lines. The finish line at the e...   \n",
       "2  We live out our lives on the surgical unit. Se...   \n",
       "3  Intimacy is a four syllable word for \\\"Here is...   \n",
       "4  Remember when you were a kid and your biggest ...   \n",
       "\n",
       "                                              quotes  \\\n",
       "0  \\n:'''[[Meredith Grey|Meredith]]:''' We don't ...   \n",
       "1  \\n:'''[[Alex Karev|Alex]]:''' Alex Karev. Nice...   \n",
       "2  \\n:'''[[Cristina Yang|Cristina]]:''' Oh, it's ...   \n",
       "3  \\n:'''[[Meredith Grey|Meredith]]:''' Where are...   \n",
       "4  \\n:'''[[George O'Malley|George]]:''' Who else ...   \n",
       "\n",
       "                                       short_summary       airdate  rating  \\\n",
       "0  The first shift for new surgical interns Mered...  27 Mar. 2005     8.4   \n",
       "1  A rape victim is admitted, who managed to hold...   3 Apr. 2005     8.2   \n",
       "2  Izzie and Cristina are assigned a close-to-bra...  10 Apr. 2005     8.1   \n",
       "3  Alex uses Izzie's modeling against her, and he...  17 Apr. 2005     8.1   \n",
       "4  Meredith worries she did something wrong durin...  24 Apr. 2005     8.2   \n",
       "\n",
       "   votes views(milion)                                         transcript  \n",
       "0   2417         16.25  Meredith VO: The game. They say either a perso...  \n",
       "1   1676         17.71  Previously On...\\nWebber: The seven years you ...  \n",
       "2   1568         17.99  Meredith's in bed. It's 4:37am and raining.\\nM...  \n",
       "3   1489         19.18  (Opens seeing Meredith through a rain covered ...  \n",
       "4   1440         17.90  (Music: The Ditty Bops-Wake Up)\\n(Meredith sit...  "
      ]
     },
     "execution_count": 195,
     "metadata": {},
     "output_type": "execute_result"
    }
   ],
   "source": [
    "GA_episodes.head()"
   ]
  },
  {
   "cell_type": "markdown",
   "metadata": {},
   "source": [
    "<br>\n",
    "Finally, the data for describing each episode in Grey's Anatomy has been retrieved and stored in a dataframe. <br>\n",
    "\n",
    "\n",
    "# Data Summary\n",
    "The full data which will be used in this project is outlined below<br><br>\n",
    "\n",
    "\n",
    "**Character Data**\n",
    "* character_names.xlsx\n",
    "    *  Name (Wiki)\n",
    "* Character text files (Stored in 'character_files' folder)\n",
    "    * From the text files the features of each character will be extracted in \"*Explainer Notebook*\"\n",
    "\n",
    "**Episode Data**\n",
    "* episode_data.xlsx\n",
    "    * Season -- (Wiki)\n",
    "    * Episode Name -- (Wiki)\n",
    "    * Description -- (Wiki)\n",
    "    * Quotes -- (Wiki)\n",
    "    * Short Summary (IMDB)\n",
    "    * Air Date -- (IMDB)\n",
    "    * Rating -- (IMDB)\n",
    "    * No. Views -- (Wikipedia)\n",
    "    * No. Votes -- (IMDB)\n",
    "    * Transcripts -- (foreverdreaming.org)\n",
    "    \n",
    "    \n",
    "* Episode text files in folders:\n",
    "    * full_episode_files\n",
    "    * quote_files\n",
    "    * transcripts\n",
    "    * descriptions_monologues (descriptions + transcripts combined)"
   ]
  }
 ],
 "metadata": {
  "kernelspec": {
   "display_name": "Python 3",
   "language": "python",
   "name": "python3"
  },
  "language_info": {
   "codemirror_mode": {
    "name": "ipython",
    "version": 3
   },
   "file_extension": ".py",
   "mimetype": "text/x-python",
   "name": "python",
   "nbconvert_exporter": "python",
   "pygments_lexer": "ipython3",
   "version": "3.8.5"
  }
 },
 "nbformat": 4,
 "nbformat_minor": 4
}
